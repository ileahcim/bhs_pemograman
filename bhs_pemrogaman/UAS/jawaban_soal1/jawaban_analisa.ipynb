{
 "cells": [
  {
   "cell_type": "markdown",
   "metadata": {},
   "source": [
    "# function \n",
    "\n",
    "Function atau fungsi adalah blok kode yang bisa dipanggil berkali-kali di mana saja dalam program. bisa mendefinisikan fungsi untuk melakukan tugas tertentu, dan bisa memanggil fungsi tersebut kapan saja dibutuhkan."
   ]
  },
  {
   "cell_type": "code",
   "execution_count": 1,
   "metadata": {},
   "outputs": [
    {
     "name": "stdout",
     "output_type": "stream",
     "text": [
      "Hello, Alice!\n",
      "Hello, Bob!\n"
     ]
    }
   ],
   "source": [
    "def say_hello(name):\n",
    "    print(f\"Hello, {name}!\")\n",
    "\n",
    "say_hello(\"Alice\")\n",
    "say_hello(\"Bob\")\n"
   ]
  },
  {
   "cell_type": "markdown",
   "metadata": {},
   "source": [
    "Di contoh di atas, mendefinisikan fungsi say_hello yang menerima satu parameter name dan mencetak pesan salam. Kemudian, memanggil fungsi tersebut dengan dua nama yang berbeda, Alice dan Bob."
   ]
  },
  {
   "cell_type": "markdown",
   "metadata": {},
   "source": [
    "# Recursive\n",
    "Recursive atau rekursi adalah konsep di mana sebuah fungsi memanggil dirinya sendiri. Biasanya, rekursi digunakan untuk menyelesaikan masalah yang bisa dipecah menjadi sub-masalah yang lebih kecil."
   ]
  },
  {
   "cell_type": "code",
   "execution_count": 2,
   "metadata": {},
   "outputs": [
    {
     "name": "stdout",
     "output_type": "stream",
     "text": [
      "120\n"
     ]
    }
   ],
   "source": [
    "def factorial(n):\n",
    "    if n == 0:\n",
    "        return 1\n",
    "    else:\n",
    "        return n * factorial(n - 1)\n",
    "\n",
    "print(factorial(5))  # Output: 120\n"
   ]
  },
  {
   "cell_type": "markdown",
   "metadata": {},
   "source": [
    "Di contoh ini, fungsi factorial memanggil dirinya sendiri dengan n-1 sampai n menjadi 0. Basis kasusnya adalah ketika n sama dengan 0, mengembalikan 1, karena 0! didefinisikan sebagai 1. Untuk nilai n lainnya, kita mengalikan n dengan hasil dari factorial(n - 1)."
   ]
  }
 ],
 "metadata": {
  "kernelspec": {
   "display_name": "Python 3",
   "language": "python",
   "name": "python3"
  },
  "language_info": {
   "codemirror_mode": {
    "name": "ipython",
    "version": 3
   },
   "file_extension": ".py",
   "mimetype": "text/x-python",
   "name": "python",
   "nbconvert_exporter": "python",
   "pygments_lexer": "ipython3",
   "version": "3.10.12"
  }
 },
 "nbformat": 4,
 "nbformat_minor": 2
}
