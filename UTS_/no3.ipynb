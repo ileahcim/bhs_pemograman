{
 "cells": [
  {
   "cell_type": "code",
   "execution_count": null,
   "metadata": {},
   "outputs": [],
   "source": [
    "#include <iostream>\n",
    "using namespace std;\n",
    "\n",
    "int main() {\n",
    "    int n, i, s, j;\n",
    "\n",
    "    cout << \"Masukkan jumlah baris: \";\n",
    "    cin >> n;\n",
    "\n",
    "    for (i = 1; i <= n; i++) {\n",
    "        for (s = i; s < n; s++)\n",
    "            cout << \" \";\n",
    "        for (j = 1; j <= (2 * i - 1); j++)\n",
    "            cout << \".\";\n",
    "        cout << \"\\n\";\n",
    "    }\n",
    "\n",
    "    return 0;\n",
    "}\n"
   ]
  },
  {
   "cell_type": "markdown",
   "metadata": {},
   "source": [
    "program diatas bertujuan untuk mencetak pola piramida dengan looping\n",
    "Dibawah ini adalah langkah\" nya\n",
    "\n",
    "1.Deklarasi Variabel:\n",
    "\n",
    "n untuk menyimpan jumlah baris yang diinput oleh pengguna.\n",
    "i untuk loop baris.\n",
    "j untuk loop karakter '.\n",
    "s untuk loop spasi.\n",
    "\n",
    "2.Input dari pengguna\n",
    "Program meminta pengguna untuk memasukkan jumlah baris dari piramida yang akan dicetak.\n",
    "\n",
    "3.Pengulangan Utama (for (i = 1; i <= n; i++)):\n",
    "Loop ini berjalan dari i = 1 hingga i = n, mengontrol jumlah baris yang akan dicetak\n",
    "\n",
    "4.Pengulangan Spasi (for (s = i; s < n; s++)):\n",
    "\n",
    "5.Pengulangan Karakter . (for (j = 1; j <= (2 * i - 1); j++)):\n",
    "\n",
    "6.Pindah ke Baris Berikutnya (cout << \"\\n\";):\n",
    "\n",
    "Contoh Keluaran\n",
    "Jika pengguna memasukkan n = 4, keluaran program akan seperti ini:\n",
    "   .\n",
    "  ...\n",
    " .....\n",
    ".......\n",
    "\n",
    "Penjelasan Keluaran\n",
    "Baris 1: 3 spasi, 1 titik.\n",
    "Baris 2: 2 spasi, 3 titik.\n",
    "Baris 3: 1 spasi, 5 titik.\n",
    "Baris 4: 0 spasi, 7 titik.\n"
   ]
  }
 ],
 "metadata": {
  "language_info": {
   "name": "python"
  }
 },
 "nbformat": 4,
 "nbformat_minor": 2
}
