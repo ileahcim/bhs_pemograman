{
 "cells": [
  {
   "cell_type": "code",
   "execution_count": null,
   "metadata": {},
   "outputs": [],
   "source": [
    "a = \"Hello\"\n",
    "print(a)\n"
   ]
  },
  {
   "cell_type": "code",
   "execution_count": null,
   "metadata": {},
   "outputs": [],
   "source": [
    "value = 50\n",
    "\n",
    "if value >= 90:\n",
    "    Grade = \"A\"\n",
    "elif value >= 80:\n",
    "    Grade = \"B\"\n",
    "else :\n",
    "    Grade = \"D\"\n",
    "\n",
    "print(F\"Grade = [Grade]\")"
   ]
  }
 ],
 "metadata": {
  "language_info": {
   "name": "python"
  }
 },
 "nbformat": 4,
 "nbformat_minor": 2
}
